{
 "cells": [
  {
   "cell_type": "code",
   "execution_count": 4,
   "metadata": {},
   "outputs": [],
   "source": [
    "using BandedMatrices\n",
    "using BandedMats\n",
    "using Test\n",
    "using LinearAlgebra\n",
    "using BenchmarkTools\n",
    "\n",
    "n = 1000\n",
    "p, q = 3, 2\n",
    "\n",
    "B = brand(n, n, p, q)\n",
    "A = Matrix(B);\n",
    "B_kong = Banded(A, p, q; zipped=false, size=(n, n))\n",
    "\n",
    "b = randn(n);\n"
   ]
  },
  {
   "cell_type": "code",
   "execution_count": 5,
   "metadata": {},
   "outputs": [
    {
     "data": {
      "text/plain": [
       "\u001b[32m\u001b[1mTest Passed\u001b[22m\u001b[39m"
      ]
     },
     "metadata": {},
     "output_type": "display_data"
    }
   ],
   "source": [
    "r = A \\ b\n",
    "r_b = B \\ b\n",
    "r_k = B_kong \\ b;\n",
    "\n",
    "@test r_b ≈ r"
   ]
  },
  {
   "cell_type": "code",
   "execution_count": 9,
   "metadata": {},
   "outputs": [
    {
     "name": "stdout",
     "output_type": "stream",
     "text": [
      "  27.500 μs (6 allocations: 62.84 KiB)\n",
      "  72.300 μs (7 allocations: 102.17 KiB)\n",
      "  13.750 ms (4 allocations: 7.64 MiB)\n"
     ]
    }
   ],
   "source": [
    "@btime $B_kong \\ $b;\n",
    "@btime $B \\ $b;\n",
    "@btime $A \\ $b;\n"
   ]
  },
  {
   "cell_type": "code",
   "execution_count": 11,
   "metadata": {},
   "outputs": [
    {
     "data": {
      "text/plain": [
       "500.0"
      ]
     },
     "metadata": {},
     "output_type": "display_data"
    }
   ],
   "source": [
    "13.750 / 27.500 * 1000\n"
   ]
  }
 ],
 "metadata": {
  "kernelspec": {
   "display_name": "Julia 1.10.3",
   "language": "julia",
   "name": "julia-1.10"
  },
  "language_info": {
   "file_extension": ".jl",
   "mimetype": "application/julia",
   "name": "julia",
   "version": "1.10.3"
  }
 },
 "nbformat": 4,
 "nbformat_minor": 2
}
