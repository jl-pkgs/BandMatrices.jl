{
 "cells": [
  {
   "cell_type": "code",
   "execution_count": 3,
   "metadata": {},
   "outputs": [
    {
     "data": {
      "text/plain": [
       "WHIT (generic function with 2 methods)"
      ]
     },
     "metadata": {},
     "output_type": "display_data"
    }
   ],
   "source": [
    "using Test\n",
    "using LinearAlgebra\n",
    "using SparseArrays\n",
    "using BenchmarkTools\n",
    "using BandedMats\n",
    "\n",
    "# ddmat(x::AbstractVector, d::Integer=2) = diff(diagm(x), d)\n",
    "ddmat(x::AbstractVector, d::Integer=2) = diff(spdiagm(x), d)\n",
    "\n",
    "function WHIT(y::AbstractVector, w::AbstractVector; kw...)\n",
    "  WHIT(y, w, 1:length(y); kw...)\n",
    "end\n",
    "\n",
    "function WHIT(y::AbstractVector, w::AbstractVector, x::AbstractVector;\n",
    "  λ=2.0, p=2)\n",
    "  n = length(y)\n",
    "  D = ddmat(x, p)\n",
    "\n",
    "  W = spdiagm(w)\n",
    "  A = W + λ * D' * D\n",
    "\n",
    "  # L = cholesky(A).L # Matrix\n",
    "  L = cholesky(A, perm=1:n).L # sparse\n",
    "  z = L' \\ (L \\ (w .* y))\n",
    "  z\n",
    "end"
   ]
  },
  {
   "cell_type": "code",
   "execution_count": 4,
   "metadata": {},
   "outputs": [
    {
     "name": "stdout",
     "output_type": "stream",
     "text": [
      "  4.806045 seconds (877.95 k allocations: 819.770 MiB, 1.44% gc time, 3.85% compilation time)\n"
     ]
    }
   ],
   "source": [
    "n = 1000\n",
    "y = rand(n)\n",
    "w = rand(n)\n",
    "x = rand(n)\n",
    "λ, p = 2.0, 3\n",
    "\n",
    "## 测试运行速度\n",
    "interm = IntermBand{Float64}(; n=length(y), p=3)\n",
    "# @profview \n",
    "# @time \n",
    "@time for i = 1:100_000\n",
    "  z1 = whit_band(y, w, x; λ=2.0, p=3, interm)\n",
    "  # z2 = WHIT(y, w, x; λ=2.0, p=3)\n",
    "end\n"
   ]
  },
  {
   "cell_type": "code",
   "execution_count": null,
   "metadata": {},
   "outputs": [],
   "source": [
    "@btime z1 = whit_band($y, $w, $x; λ=2.0, p=3, interm);\n",
    "@btime z2 = WHIT($y, $w, $x; λ=2.0, p=3);\n"
   ]
  }
 ],
 "metadata": {
  "kernelspec": {
   "display_name": "Julia 1.10.3",
   "language": "julia",
   "name": "julia-1.10"
  },
  "language_info": {
   "file_extension": ".jl",
   "mimetype": "application/julia",
   "name": "julia",
   "version": "1.10.3"
  }
 },
 "nbformat": 4,
 "nbformat_minor": 2
}
